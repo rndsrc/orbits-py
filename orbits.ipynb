{
 "cells": [
  {
   "cell_type": "markdown",
   "id": "0",
   "metadata": {},
   "source": [
    "# Speeding Up Your Python Codes 1000x"
   ]
  },
  {
   "cell_type": "markdown",
   "id": "1",
   "metadata": {},
   "source": [
    "## Introduction\n",
    "\n",
    "Welcome to \"Speeding Up Your Python Codes 1000x\"!\n",
    "In the next 45 minutes, we will learn tricks to unlock python performance and increase a sample code's speed by a factor of 1000x!"
   ]
  },
  {
   "cell_type": "markdown",
   "id": "2",
   "metadata": {},
   "source": [
    "## The $n$-body Problem and the Leapfrog Algorithm\n",
    "\n",
    "The $n$-body problem involves simulating the motion of many bodies interacting with each other through (usually) gravitational forces.\n",
    "Each body experiences a force from every other body, making the simulation computationally intensive---ideal for exploring optimization techniques.\n",
    "\n",
    "The leapfrog algorithm is a simple, robust numerical integrator that alternates between updating velocities (\"kicks\") and positions (\"drifts\").\n",
    "It is popular because it conserves energy and momentum well over long simulation periods."
   ]
  },
  {
   "cell_type": "markdown",
   "id": "3",
   "metadata": {},
   "source": [
    "### Gravitational Force/Acceleration Equation\n",
    "\n",
    "For any two bodies labeled by $i$ and $j$, the direct gravitational force exerted on body $i$ by body $j$ is given by:\n",
    "\\begin{align}\n",
    "  \\mathbf{f}_{ij} = -G m_i m_j\\frac{\\mathbf{r}_i - \\mathbf{r}_j\\ \\ \\ }{|\\mathbf{r}_i - \\mathbf{r}_j|^{3/2}},\n",
    "\\end{align}\n",
    "where:\n",
    "* $G$ is the gravitational constant.\n",
    "* $m_i$ and $m_j$ are the masses of the bodies.\n",
    "* $\\mathbf{r}_i$ and $\\mathbf{r}_j$ are their position vectors."
   ]
  },
  {
   "cell_type": "markdown",
   "id": "4",
   "metadata": {},
   "source": [
    "Summing the contributions from all other bodies gives the net force (and thus the acceleration) on body $i$:\n",
    "\\begin{align}\n",
    "  \\mathbf{f}_i \n",
    "  = \\sum_{j\\ne i} \\mathbf{f}_{ij} \n",
    "  = -G m_i \\sum_{j\\ne i} m_j \\frac{\\mathbf{r}_i - \\mathbf{r}_j\\ \\ \\ }{|\\mathbf{r}_i - \\mathbf{r}_j|^3},\n",
    "\\end{align}"
   ]
  },
  {
   "cell_type": "markdown",
   "id": "5",
   "metadata": {},
   "source": [
    "Given Newton's law $f = m a$, the \"acceleration\" applied on body $i$ caused by all other bodies is:\n",
    "\\begin{align}\n",
    "  \\mathbf{a}_i \n",
    "  = \\sum_{j\\ne i} \\mathbf{a}_{ij} \n",
    "  = -G \\sum_{j\\ne i} m_j \\frac{\\mathbf{r}_i - \\mathbf{r}_j\\ \\ \\ }{|\\mathbf{r}_i - \\mathbf{r}_j|^3}.\n",
    "\\end{align}"
   ]
  },
  {
   "cell_type": "markdown",
   "id": "6",
   "metadata": {},
   "source": [
    "Choosing the right units so $G = 1$.\n",
    "Here is a pure Python implementation of the gravitational acceleration:"
   ]
  },
  {
   "cell_type": "code",
   "execution_count": null,
   "id": "7",
   "metadata": {},
   "outputs": [],
   "source": [
    "def acc1(m, r):\n",
    "    \n",
    "    n = len(m)\n",
    "    a = []\n",
    "    for i in range(n):\n",
    "        axi, ayi, azi = 0, 0, 0\n",
    "        for j in range(n):\n",
    "            if j != i:\n",
    "                xi, yi, zi = r[i]\n",
    "                xj, yj, zj = r[j]\n",
    "\n",
    "                axij = - m[j] * (xi - xj) / ((xi - xj)**2 + (yi - yj)**2 + (zi - zj)**2)**(3/2)\n",
    "                ayij = - m[j] * (yi - yj) / ((xi - xj)**2 + (yi - yj)**2 + (zi - zj)**2)**(3/2)\n",
    "                azij = - m[j] * (zi - zj) / ((xi - xj)**2 + (yi - yj)**2 + (zi - zj)**2)**(3/2)\n",
    "\n",
    "                axi += axij\n",
    "                ayi += ayij\n",
    "                azi += azij\n",
    "\n",
    "        a.append((axi, ayi, azi))\n",
    "\n",
    "    return a"
   ]
  },
  {
   "cell_type": "markdown",
   "id": "8",
   "metadata": {},
   "source": [
    "We may try using this function to evaluate the gravitational force between two particles, with with mass $m = 1$, at a distance of $2$.\n",
    "We expect the \"acceleration\" be -1/4 in the direction of their seperation."
   ]
  },
  {
   "cell_type": "code",
   "execution_count": null,
   "id": "9",
   "metadata": {},
   "outputs": [],
   "source": [
    "m  = [1.0, 1.0]\n",
    "r0 = [\n",
    "    (+1.0, 0.0, 0.0),\n",
    "    (-1.0, 0.0, 0.0),\n",
    "]\n",
    "a0ref = [\n",
    "    (-0.25, 0.0, 0.0),\n",
    "    (+0.25, 0.0, 0.0),\n",
    "]"
   ]
  },
  {
   "cell_type": "code",
   "execution_count": null,
   "id": "10",
   "metadata": {},
   "outputs": [],
   "source": [
    "a0 = acc1(m, r0)"
   ]
  },
  {
   "cell_type": "code",
   "execution_count": null,
   "id": "11",
   "metadata": {},
   "outputs": [],
   "source": [
    "a0"
   ]
  },
  {
   "cell_type": "code",
   "execution_count": null,
   "id": "12",
   "metadata": {},
   "outputs": [],
   "source": [
    "assert a0 == a0ref"
   ]
  },
  {
   "cell_type": "markdown",
   "id": "13",
   "metadata": {},
   "source": [
    "### Leapfrog Integrator\n",
    "\n",
    "The leapfrog algorithm is a time-stepping method used to integrate the equations of motion.\n",
    "It is especially favored for problems like the $n$-body simulation because it is symplectic, meaning it conserves energy and momentum over long periods.\n",
    "The algorithm updates positions and velocities in a staggered manner:\n",
    "\n",
    "1. Half-step velocity update (Kick):\n",
    "   start by updating the velocity by half a time step using the current acceleration $a(t)$:\n",
    "   \\begin{align}\n",
    "     v\\left(t+\\frac{1}{2}\\Delta t\\right) = v(t) + \\frac{1}{2}\\Delta t\\, a(t).\n",
    "   \\end{align}\n",
    "\n",
    "2. Full-step position update (Drift):\n",
    "   update the position for a full time step using the half-stepped velocity:\n",
    "   \\begin{align}\n",
    "     x(t+\\Delta t) = x(t) + \\Delta t\\, v\\left(t+\\frac{1}{2}\\Delta t\\right).\n",
    "   \\end{align}\n",
    "\n",
    "3. Half-step velocity update (Kick):\n",
    "   finally, update the velocity by another half time step using the new acceleration $a(t+\\Delta t)$ computed from the updated positions:\n",
    "   \\begin{align}\n",
    "     v(t+\\Delta t) = v\\left(t+\\frac{1}{2}\\Delta t\\right) + \\frac{1}{2}\\Delta t\\, a(t+\\Delta t).\n",
    "   \\end{align}"
   ]
  },
  {
   "cell_type": "code",
   "execution_count": null,
   "id": "14",
   "metadata": {},
   "outputs": [],
   "source": [
    "def leapfrog1(m, r0, v0, dt, acc=acc1):\n",
    "\n",
    "    n  = len(m)\n",
    "\n",
    "    # vh = v0 + 0.5 * dt * a0\n",
    "    a0 = acc(m, r0)\n",
    "    vh = []\n",
    "    for i in range(n):\n",
    "        a0xi, a0yi, a0zi = a0[i]\n",
    "        v0xi, v0yi, v0zi = v0[i]\n",
    "        vhxi = v0xi + 0.5 * dt * a0xi\n",
    "        vhyi = v0yi + 0.5 * dt * a0yi\n",
    "        vhzi = v0zi + 0.5 * dt * a0zi\n",
    "        vh.append((vhxi, vhyi, vhzi))\n",
    "\n",
    "    # r1 = r0 + dt * vh\n",
    "    r1 = []\n",
    "    for i in range(n):\n",
    "        vhxi, vhyi, vhzi = vh[i]\n",
    "        x0i,  y0i,  z0i  = r0[i]\n",
    "        x1i = x0i + dt * vhxi\n",
    "        y1i = y0i + dt * vhyi\n",
    "        z1i = z0i + dt * vhzi\n",
    "        r1.append((x1i, y1i, z1i))\n",
    "\n",
    "    # v1 = vh + 0.5 * dt * a1\n",
    "    a1 = acc(m, r1)\n",
    "    v1 = []\n",
    "    for i in range(n):\n",
    "        a1xi, a1yi, a1zi = a1[i]\n",
    "        vhxi, vhyi, vhzi = vh[i]\n",
    "        v1xi = vhxi + 0.5 * dt * a1xi\n",
    "        v1yi = vhyi + 0.5 * dt * a1yi\n",
    "        v1zi = vhzi + 0.5 * dt * a1zi\n",
    "        v1.append((v1xi, v1yi, v1zi))\n",
    "\n",
    "    return r1, v1"
   ]
  },
  {
   "cell_type": "markdown",
   "id": "15",
   "metadata": {},
   "source": [
    "We may try using this function to evolve the two particles under gravitational force, with some initial velocities."
   ]
  },
  {
   "cell_type": "code",
   "execution_count": null,
   "id": "16",
   "metadata": {},
   "outputs": [],
   "source": [
    "v0 = [\n",
    "    (0.0, +0.5, 0.0),\n",
    "    (0.0, -0.5, 0.0),\n",
    "]\n",
    "v1ref = [\n",
    "    (-0.024984345739803245, +0.4993750014648409, 0.0),\n",
    "    (+0.024984345739803245, -0.4993750014648409, 0.0),\n",
    "]"
   ]
  },
  {
   "cell_type": "code",
   "execution_count": null,
   "id": "17",
   "metadata": {},
   "outputs": [],
   "source": [
    "r1, v1 = leapfrog1(m, r0, v0, 0.1)"
   ]
  },
  {
   "cell_type": "code",
   "execution_count": null,
   "id": "18",
   "metadata": {},
   "outputs": [],
   "source": [
    "v1"
   ]
  },
  {
   "cell_type": "code",
   "execution_count": null,
   "id": "19",
   "metadata": {},
   "outputs": [],
   "source": [
    "assert v1 == v1ref"
   ]
  },
  {
   "cell_type": "markdown",
   "id": "20",
   "metadata": {},
   "source": [
    "### Test the Integrator\n",
    "\n",
    "We test the integrator by evolving the two particle by a time $T = 2\\pi$ using $N = 64$ steps."
   ]
  },
  {
   "cell_type": "code",
   "execution_count": null,
   "id": "21",
   "metadata": {},
   "outputs": [],
   "source": [
    "from math import pi\n",
    "\n",
    "N = 64\n",
    "T = 2 * pi"
   ]
  },
  {
   "cell_type": "code",
   "execution_count": null,
   "id": "22",
   "metadata": {},
   "outputs": [],
   "source": [
    "dt = T / N\n",
    "R  = [r0]\n",
    "V  = [v0]\n",
    "for _ in range(N):\n",
    "    r, v = leapfrog1(m, R[-1], V[-1], dt)\n",
    "    R.append(r)\n",
    "    V.append(v)"
   ]
  },
  {
   "cell_type": "markdown",
   "id": "23",
   "metadata": {},
   "source": [
    "Although our numerical scheme is implemented in pure python, it is still handy to use `numpy` to slice through the data..."
   ]
  },
  {
   "cell_type": "code",
   "execution_count": null,
   "id": "24",
   "metadata": {},
   "outputs": [],
   "source": [
    "import numpy as np\n",
    "\n",
    "R = np.array(R)\n",
    "X = R[:,:,0]\n",
    "Y = R[:,:,1]"
   ]
  },
  {
   "cell_type": "markdown",
   "id": "25",
   "metadata": {},
   "source": [
    "and plot the result..."
   ]
  },
  {
   "cell_type": "code",
   "execution_count": null,
   "id": "26",
   "metadata": {},
   "outputs": [],
   "source": [
    "from matplotlib import pyplot as plt\n",
    "\n",
    "plt.plot(X, Y, '.-')\n",
    "plt.gca().set_aspect('equal')"
   ]
  },
  {
   "cell_type": "markdown",
   "id": "27",
   "metadata": {},
   "source": [
    "## Benchmarking and Profiling Your Code\n",
    "\n",
    "Before diving into optimizations, it is essential to understand where our code spends most of its time.\n",
    "By benchmarking and profiling, we can pinpoint performance bottlenecks and measure improvements after optimization."
   ]
  },
  {
   "cell_type": "markdown",
   "id": "28",
   "metadata": {},
   "source": [
    "### Benchmarking vs. Profiling\n",
    "\n",
    "* Benchmarking:\n",
    "  Measures the overall runtime of your code.\n",
    "  Tools like Python's `timeit` module run your code multiple times to provide an accurate average runtime.\n",
    "  This helps in comparing the performance before and after optimizations.\n",
    "\n",
    "* Profiling:\n",
    "  Provides detailed insights into which parts of your code are consuming the most time.\n",
    "  For example, `cProfile` generates reports showing function call times and frequencies.\n",
    "  Note that `cProfile` typically runs the code once, so its focus is on identifying hotspots rather than providing averaged timings."
   ]
  },
  {
   "cell_type": "markdown",
   "id": "29",
   "metadata": {},
   "source": [
    "### Quick Benchmark Example\n",
    "\n",
    "`timeit` is a module designed for benchmarking by executing code multiple times.\n",
    "It is excellent for obtaining reliable runtime measurements."
   ]
  },
  {
   "cell_type": "code",
   "execution_count": null,
   "id": "30",
   "metadata": {},
   "outputs": [],
   "source": [
    "n  = 1000\n",
    "m  = np.random.lognormal(size=n).tolist()\n",
    "r0 = np.random.normal(size=(n, 3)).tolist()\n",
    "v0 = np.random.normal(size=(n, 3)).tolist()"
   ]
  },
  {
   "cell_type": "code",
   "execution_count": null,
   "id": "31",
   "metadata": {},
   "outputs": [],
   "source": [
    "%timeit r1, v1 = leapfrog1(m, r0, v0, dt)"
   ]
  },
  {
   "cell_type": "markdown",
   "id": "32",
   "metadata": {},
   "source": [
    "It takes about 1.31 second on my laptop to run a single step of leapfrog for $n = 1000$ bodies.\n",
    "Your mileage may vary.\n",
    "But this is pretty slow in today's standard."
   ]
  },
  {
   "cell_type": "markdown",
   "id": "33",
   "metadata": {},
   "source": [
    "### Quick Profiling Example\n",
    "\n",
    "Here is a snippet using cProfile to profile our leapfrog stepper:"
   ]
  },
  {
   "cell_type": "code",
   "execution_count": null,
   "id": "34",
   "metadata": {},
   "outputs": [],
   "source": [
    "import cProfile\n",
    "\n",
    "cProfile.run(\"r1, v1 = leapfrog1(m, r0, v0, dt)\")"
   ]
  },
  {
   "cell_type": "markdown",
   "id": "35",
   "metadata": {},
   "source": [
    "From cProfile's result, the most used function is `method 'append' of 'list' objects`.\n",
    "This is not surprising given we've been using for-loop and append, e.g.,\n",
    "```\n",
    "    v1 = []\n",
    "    for i in range(n):\n",
    "        ...\n",
    "        v1.append(...)\n",
    "```\n",
    "in both `acc1()` and `leapfrog1()`.\n",
    "This is neither pythonic nor efficient."
   ]
  },
  {
   "cell_type": "markdown",
   "id": "36",
   "metadata": {},
   "source": [
    "## Optimizing 1: Use List Comprehension Over For Loop\n",
    "\n",
    "Python's list comprehensions is a concise way to create lists by iterating over an iterable and applying an expression---all in a single, compact line.\n",
    "Internally, they are optimized in `C`, making them generally faster than a standard python for-loop."
   ]
  },
  {
   "cell_type": "code",
   "execution_count": null,
   "id": "37",
   "metadata": {},
   "outputs": [],
   "source": [
    "iterable = range(10)\n",
    "\n",
    "# Standard python for-loop\n",
    "l1 = []\n",
    "for x in iterable:\n",
    "    l1.append(x * 2)\n",
    "\n",
    "# Using a list comprehension\n",
    "l2 = [x * 2 for x in iterable]\n",
    "\n",
    "# Compare results\n",
    "print(l1)\n",
    "print(l2)"
   ]
  },
  {
   "cell_type": "markdown",
   "id": "38",
   "metadata": {},
   "source": [
    "We may use list comprehension to rewrite our leapfrog algorithm:"
   ]
  },
  {
   "cell_type": "code",
   "execution_count": null,
   "id": "39",
   "metadata": {},
   "outputs": [],
   "source": [
    "def leapfrog2(m, r0, v0, dt, acc=acc1):\n",
    "\n",
    "    n  = len(m)\n",
    "\n",
    "    # vh = v0 + 0.5 * dt * a0\n",
    "    a0 = acc(m, r0)\n",
    "    vh = [[v0xi + 0.5 * dt * a0xi \n",
    "               for v0xi, a0xi in zip(v0i, a0i)] \n",
    "               for v0i,  a0i  in zip(v0,  a0 )]\n",
    "\n",
    "    # r1 = r0 + dt * vh\n",
    "    r1 = [[x0i + dt * vhxi\n",
    "               for x0i, vhxi in zip(r0i, vhi)]\n",
    "               for r0i, vhi  in zip(r0,  vh )]\n",
    "\n",
    "    # v1 = vh + 0.5 * dt * a1\n",
    "    a1 = acc(m, r1)\n",
    "    v1 = [[vhxi + 0.5 * dt * a1xi\n",
    "               for vhxi, a1xi in zip(vhi, a1i)]\n",
    "               for vhi,  a1i, in zip(vh,  a1 )]\n",
    "\n",
    "    return r1, v1"
   ]
  },
  {
   "cell_type": "code",
   "execution_count": null,
   "id": "40",
   "metadata": {},
   "outputs": [],
   "source": [
    "%timeit r1, v1 = leapfrog2(m, r0, v0, dt)"
   ]
  },
  {
   "cell_type": "code",
   "execution_count": null,
   "id": "41",
   "metadata": {},
   "outputs": [],
   "source": [
    "cProfile.run(\"r1, v1 = leapfrog2(m, r0, v0, dt)\")"
   ]
  },
  {
   "cell_type": "markdown",
   "id": "42",
   "metadata": {},
   "source": [
    "Depending on your python version, you may see slight performance increase from `timeit` and number of call decreased for `append`."
   ]
  },
  {
   "cell_type": "markdown",
   "id": "43",
   "metadata": {},
   "source": [
    "## Optimizing 2: Reduce Operation Count\n",
    "\n",
    "Reducing the operation count means cutting down on unnecessary calculations and redundant function calls.\n",
    "When operations are executed millions of times---as in inner loops or simulations---even small optimizations can yield significant speed improvements.\n",
    "\n",
    "For example, precomputing constant values or combining multiple arithmetic steps into one reduces repetitive work.\n",
    "In the context of the $n$-body problem, calculate invariant quantities once outside of critical loops instead of recalculating them every time.\n",
    "This streamlined approach not only speeds up your code but also help further optimizations like vectorization and JIT compilation."
   ]
  },
  {
   "cell_type": "markdown",
   "id": "44",
   "metadata": {},
   "source": [
    "Recall the benchmark using `leapfrog2()` with `acc1()`."
   ]
  },
  {
   "cell_type": "code",
   "execution_count": null,
   "id": "45",
   "metadata": {},
   "outputs": [],
   "source": [
    "%timeit r1, v1 = leapfrog2(m, r0, v0, dt, acc=acc1)"
   ]
  },
  {
   "cell_type": "markdown",
   "id": "46",
   "metadata": {},
   "source": [
    "We noticed that the computation of $\\mathbf{r}_{ij}^3 = |\\mathbf{r}_i - \\mathbf{r}_j|^3$ is used in all components of $\\mathbf{x}_{ij}$.\n",
    "Instead of recomputing it, we can simply cache it in a variable `rrr`.\n",
    "This reduce the benchmark time by about 45% already!!!"
   ]
  },
  {
   "cell_type": "code",
   "execution_count": null,
   "id": "47",
   "metadata": {},
   "outputs": [],
   "source": [
    "def acc2(m, r):\n",
    "    \n",
    "    n = len(m)\n",
    "    a = []\n",
    "    for i in range(n):\n",
    "        axi, ayi, azi = 0, 0, 0\n",
    "        for j in range(n):\n",
    "            if j != i:\n",
    "                xi, yi, zi = r[i]\n",
    "                xj, yj, zj = r[j]\n",
    "\n",
    "                # \"Cache\" r^3\n",
    "                rrr = ((xi - xj)**2 + (yi - yj)**2 + (zi - zj)**2)**(3/2)\n",
    "                \n",
    "                axij = - m[j] * (xi - xj) / rrr\n",
    "                ayij = - m[j] * (yi - yj) / rrr\n",
    "                azij = - m[j] * (zi - zj) / rrr\n",
    "\n",
    "                axi += axij\n",
    "                ayi += ayij\n",
    "                azi += azij\n",
    "\n",
    "        a.append((axi, ayi, azi))\n",
    "\n",
    "    return a"
   ]
  },
  {
   "cell_type": "code",
   "execution_count": null,
   "id": "48",
   "metadata": {},
   "outputs": [],
   "source": [
    "%timeit r1, v1 = leapfrog2(m, r0, v0, dt, acc=acc2)"
   ]
  },
  {
   "cell_type": "markdown",
   "id": "49",
   "metadata": {},
   "source": [
    "But we don't have to stop from this.\n",
    "The different components of $\\mathbf{r}_{ij} = \\mathbf{r}_i - \\mathbf{r}_j$ can be cached as `dx`, `dy`, `dz`, too."
   ]
  },
  {
   "cell_type": "code",
   "execution_count": null,
   "id": "50",
   "metadata": {},
   "outputs": [],
   "source": [
    "def acc3(m, r):\n",
    "    \n",
    "    n = len(m)\n",
    "    a = []\n",
    "    for i in range(n):\n",
    "        axi, ayi, azi = 0, 0, 0\n",
    "        for j in range(n):\n",
    "            if j != i:\n",
    "                xi, yi, zi = r[i]\n",
    "                xj, yj, zj = r[j]\n",
    "\n",
    "                # \"Cache\" the components of dr = r_ij = ri - rj\n",
    "                dx = xi - xj\n",
    "                dy = yi - yj\n",
    "                dz = zi - zj\n",
    "\n",
    "                rrr = (dx**2 + dy**2 + dz**2)**(3/2)\n",
    "                \n",
    "                axij = - m[j] * dx / rrr\n",
    "                ayij = - m[j] * dy / rrr\n",
    "                azij = - m[j] * dz / rrr\n",
    "\n",
    "                axi += axij\n",
    "                ayi += ayij\n",
    "                azi += azij\n",
    "\n",
    "        a.append((axi, ayi, azi))\n",
    "\n",
    "    return a"
   ]
  },
  {
   "cell_type": "code",
   "execution_count": null,
   "id": "51",
   "metadata": {},
   "outputs": [],
   "source": [
    "%timeit r1, v1 = leapfrog2(m, r0, v0, dt, acc=acc3)"
   ]
  },
  {
   "cell_type": "markdown",
   "id": "52",
   "metadata": {},
   "source": [
    "Similarly, we can cache $-m_j / |\\mathbf{r}_{ij}|^3$."
   ]
  },
  {
   "cell_type": "code",
   "execution_count": null,
   "id": "53",
   "metadata": {},
   "outputs": [],
   "source": [
    "def acc4(m, r):\n",
    "    \n",
    "    n = len(m)\n",
    "    a = []\n",
    "    for i in range(n):\n",
    "        axi, ayi, azi = 0, 0, 0\n",
    "        for j in range(n):\n",
    "            if j != i:\n",
    "                xi, yi, zi = r[i]\n",
    "                xj, yj, zj = r[j]\n",
    "\n",
    "                dx = xi - xj\n",
    "                dy = yi - yj\n",
    "                dz = zi - zj\n",
    "\n",
    "                rrr = (dx**2 + dy**2 + dz**2)**(3/2)\n",
    "                f   = - m[j] / rrr # \"cache\" -m_j / r_{ij}^3\n",
    "\n",
    "                axi += f * dx\n",
    "                ayi += f * dy\n",
    "                azi += f * dz\n",
    "\n",
    "        a.append((axi, ayi, azi))\n",
    "\n",
    "    return a"
   ]
  },
  {
   "cell_type": "code",
   "execution_count": null,
   "id": "54",
   "metadata": {},
   "outputs": [],
   "source": [
    "%timeit r1, v1 = leapfrog2(m, r0, v0, dt, acc=acc4)"
   ]
  },
  {
   "cell_type": "markdown",
   "id": "55",
   "metadata": {},
   "source": [
    "Finally, we notice the symmetry that $\\mathbf{a}_{ij} = \\mathbf{a}_{ji}$.\n",
    "In principle, we only need to compute $\\mathbf{a}_{ij}$ for $j < i$.\n",
    "However, this requires we pre-allocate a list-of-list.\n",
    "Just creating list-of-list and use them to keep track of the acceleration actually increase benchmark time."
   ]
  },
  {
   "cell_type": "code",
   "execution_count": null,
   "id": "56",
   "metadata": {},
   "outputs": [],
   "source": [
    "def acc5(m, r):\n",
    "    \n",
    "    n = len(m)\n",
    "    a = [[0]*3]*n # create a list-of-list\n",
    "    for i in range(n):\n",
    "        for j in range(n):\n",
    "            if j != i:\n",
    "                xi, yi, zi = r[i]\n",
    "                xj, yj, zj = r[j]\n",
    "\n",
    "                dx = xi - xj\n",
    "                dy = yi - yj\n",
    "                dz = zi - zj\n",
    "\n",
    "                rrr = (dx**2 + dy**2 + dz**2)**(3/2)\n",
    "                f   = - m[j] / rrr\n",
    "\n",
    "                # Use the list-of-list to keep track of the acceleration\n",
    "                a[i][0] += f * dx\n",
    "                a[i][1] += f * dy\n",
    "                a[i][2] += f * dz\n",
    "\n",
    "    return a"
   ]
  },
  {
   "cell_type": "code",
   "execution_count": null,
   "id": "57",
   "metadata": {},
   "outputs": [],
   "source": [
    "%timeit r1, v1 = leapfrog2(m, r0, v0, dt, acc=acc5)"
   ]
  },
  {
   "cell_type": "markdown",
   "id": "58",
   "metadata": {},
   "source": [
    "But once we have the list-of-list, we may change the upper bound of the inner loop to cut the computation to almost half.\n",
    "This is the fastest code so far."
   ]
  },
  {
   "cell_type": "code",
   "execution_count": null,
   "id": "59",
   "metadata": {},
   "outputs": [],
   "source": [
    "def acc6(m, r):\n",
    "    \n",
    "    n = len(m)\n",
    "    a = [[0]*3]*n\n",
    "    for i in range(n):\n",
    "        for j in range(i): # adjust the upper bound of the inner loop\n",
    "            xi, yi, zi = r[i]\n",
    "            xj, yj, zj = r[j]\n",
    "\n",
    "            dx = xi - xj\n",
    "            dy = yi - yj\n",
    "            dz = zi - zj\n",
    "\n",
    "            rrr = (dx**2 + dy**2 + dz**2)**(3/2)\n",
    "            fi  =   m[i] / rrr\n",
    "            fj  = - m[j] / rrr\n",
    "            \n",
    "            a[i][0] += fj * dx\n",
    "            a[i][1] += fj * dy\n",
    "            a[i][2] += fj * dz\n",
    "\n",
    "            # Account the acceleration to the j-th body.\n",
    "            a[j][0] += fi * dx\n",
    "            a[j][1] += fi * dy\n",
    "            a[j][2] += fi * dz\n",
    "\n",
    "    return a"
   ]
  },
  {
   "cell_type": "code",
   "execution_count": null,
   "id": "60",
   "metadata": {},
   "outputs": [],
   "source": [
    "%timeit r1, v1 = leapfrog2(m, r0, v0, dt, acc=acc6)"
   ]
  }
 ],
 "metadata": {
  "kernelspec": {
   "display_name": "Python 3 (ipykernel)",
   "language": "python",
   "name": "python3"
  },
  "language_info": {
   "codemirror_mode": {
    "name": "ipython",
    "version": 3
   },
   "file_extension": ".py",
   "mimetype": "text/x-python",
   "name": "python",
   "nbconvert_exporter": "python",
   "pygments_lexer": "ipython3",
   "version": "3.10.15"
  }
 },
 "nbformat": 4,
 "nbformat_minor": 5
}
