{
 "cells": [
  {
   "cell_type": "markdown",
   "id": "0",
   "metadata": {},
   "source": [
    "# Speeding Up Your Python Codes 1000x"
   ]
  },
  {
   "cell_type": "markdown",
   "id": "1",
   "metadata": {},
   "source": [
    "Python is a favorite for data science and scientific computing, but\n",
    "its interpreted nature can be a performance bottleneck.\n",
    "In this workshop, we will explore practical techniques to supercharge\n",
    "Python performance, including vectorization, parallel/distributed\n",
    "computing, just-in-time compilation, and GPU acceleration.\n",
    "We will also cover profiling best practices to benchmark and optimize\n",
    "codes.\n",
    "Whether you're processing large datasets, training AI models, or\n",
    "running simulations, these strategies will help you achieve speedups\n",
    "of up to 1000x."
   ]
  }
 ],
 "metadata": {
  "kernelspec": {
   "display_name": "Python 3 (ipykernel)",
   "language": "python",
   "name": "python3"
  },
  "language_info": {
   "codemirror_mode": {
    "name": "ipython",
    "version": 3
   },
   "file_extension": ".py",
   "mimetype": "text/x-python",
   "name": "python",
   "nbconvert_exporter": "python",
   "pygments_lexer": "ipython3",
   "version": "3.13.2"
  }
 },
 "nbformat": 4,
 "nbformat_minor": 5
}
