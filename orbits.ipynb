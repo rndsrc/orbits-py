{
 "cells": [
  {
   "cell_type": "markdown",
   "id": "0",
   "metadata": {},
   "source": [
    "# Speeding Up Your Python Codes 1000x"
   ]
  },
  {
   "cell_type": "markdown",
   "id": "1",
   "metadata": {},
   "source": [
    "## Introduction\n",
    "\n",
    "Welcome to \"Speeding Up Your Python Codes 1000x\"!\n",
    "In the next 45 minutes, we will learn tricks to unlock python performance and increase a sample code's speed by a factor of 1000x!"
   ]
  },
  {
   "cell_type": "markdown",
   "id": "2",
   "metadata": {},
   "source": [
    "## The $n$-body Problem and the Leapfrog Algorithm\n",
    "\n",
    "The $n$-body problem involves simulating the motion of many bodies interacting with each other through (usually) gravitational forces.\n",
    "Each body experiences a force from every other body, making the simulation computationally intensive---ideal for exploring optimization techniques.\n",
    "\n",
    "The leapfrog algorithm is a simple, robust numerical integrator that alternates between updating velocities (\"kicks\") and positions (\"drifts\").\n",
    "It is popular because it conserves energy and momentum well over long simulation periods."
   ]
  },
  {
   "cell_type": "markdown",
   "id": "3",
   "metadata": {},
   "source": [
    "### Gravitational Force/Acceleration Equation\n",
    "\n",
    "For any two bodies labeled by $i$ and $j$, the direct gravitational force exerted on body $i$ by body $j$ is given by:\n",
    "\\begin{align}\n",
    "  \\mathbf{f}_{ij} = -G m_i m_j\\frac{\\mathbf{r}_i - \\mathbf{r}_j\\ \\ \\ }{|\\mathbf{r}_i - \\mathbf{r}_j|^{3/2}},\n",
    "\\end{align}\n",
    "where:\n",
    "* $G$ is the gravitational constant.\n",
    "* $m_i$ and $m_j$ are the masses of the bodies.\n",
    "* $\\mathbf{r}_i$ and $\\mathbf{r}_j$ are their position vectors."
   ]
  },
  {
   "cell_type": "markdown",
   "id": "4",
   "metadata": {},
   "source": [
    "Summing the contributions from all other bodies gives the net force (and thus the acceleration) on body $i$:\n",
    "\\begin{align}\n",
    "  \\mathbf{f}_i \n",
    "  = \\sum_{j\\ne i} \\mathbf{f}_{ij} \n",
    "  = -G m_i \\sum_{j\\ne i} m_j \\frac{\\mathbf{r}_i - \\mathbf{r}_j\\ \\ \\ }{|\\mathbf{r}_i - \\mathbf{r}_j|^3},\n",
    "\\end{align}"
   ]
  },
  {
   "cell_type": "markdown",
   "id": "5",
   "metadata": {},
   "source": [
    "Given Newton's law $f = m a$, the \"acceleration\" applied on body $i$ caused by all other bodies is:\n",
    "\\begin{align}\n",
    "  \\mathbf{a}_i \n",
    "  = \\sum_{j\\ne i} \\mathbf{a}_{ij} \n",
    "  = -G \\sum_{j\\ne i} m_j \\frac{\\mathbf{r}_i - \\mathbf{r}_j\\ \\ \\ }{|\\mathbf{r}_i - \\mathbf{r}_j|^3}.\n",
    "\\end{align}"
   ]
  },
  {
   "cell_type": "markdown",
   "id": "6",
   "metadata": {},
   "source": [
    "Choosing the right units so $G = 1$.\n",
    "Here is a pure Python implementation of the gravitational acceleration:"
   ]
  },
  {
   "cell_type": "code",
   "execution_count": null,
   "id": "7",
   "metadata": {},
   "outputs": [],
   "source": [
    "def acc1(m, r):\n",
    "    \n",
    "    n = len(m)\n",
    "    a = []\n",
    "    for i in range(n):\n",
    "        axi, ayi, azi = 0, 0, 0\n",
    "        for j in range(n):\n",
    "            if j != i:\n",
    "                xi, yi, zi = r[i]\n",
    "                xj, yj, zj = r[j]\n",
    "\n",
    "                axij = - m[j] * (xi - xj) / ((xi - xj)**2 + (yi - yj)**2 + (zi - zj)**2)**(3/2)\n",
    "                ayij = - m[j] * (yi - yj) / ((xi - xj)**2 + (yi - yj)**2 + (zi - zj)**2)**(3/2)\n",
    "                azij = - m[j] * (zi - zj) / ((xi - xj)**2 + (yi - yj)**2 + (zi - zj)**2)**(3/2)\n",
    "\n",
    "                axi += axij\n",
    "                ayi += ayij\n",
    "                azi += azij\n",
    "\n",
    "        a.append((axi, ayi, azi))\n",
    "\n",
    "    return a"
   ]
  },
  {
   "cell_type": "markdown",
   "id": "8",
   "metadata": {},
   "source": [
    "We may try using this function to evaluate the gravitational force between two particles, with with mass $m = 1$, at a distance of $2$.\n",
    "We expect the \"acceleration\" be -1/4 in the direction of their seperation."
   ]
  },
  {
   "cell_type": "code",
   "execution_count": null,
   "id": "9",
   "metadata": {},
   "outputs": [],
   "source": [
    "m = [1.0, 1.0]\n",
    "r = [\n",
    "    (+1.0, 0.0, 0.0),\n",
    "    (-1.0, 0.0, 0.0),\n",
    "]\n",
    "aref = [\n",
    "    (-0.25, 0.0, 0.0),\n",
    "    (+0.25, 0.0, 0.0),\n",
    "]"
   ]
  },
  {
   "cell_type": "code",
   "execution_count": null,
   "id": "10",
   "metadata": {},
   "outputs": [],
   "source": [
    "a = acc1(m, r)"
   ]
  },
  {
   "cell_type": "code",
   "execution_count": null,
   "id": "11",
   "metadata": {},
   "outputs": [],
   "source": [
    "a"
   ]
  },
  {
   "cell_type": "code",
   "execution_count": null,
   "id": "12",
   "metadata": {},
   "outputs": [],
   "source": [
    "assert acc1(m, r) == aref"
   ]
  },
  {
   "cell_type": "markdown",
   "id": "13",
   "metadata": {},
   "source": [
    "## Leapfrog Integrator\n",
    "\n",
    "The leapfrog algorithm is a time-stepping method used to integrate the equations of motion.\n",
    "It is especially favored for problems like the $n$-body simulation because it is symplectic, meaning it conserves energy and momentum over long periods.\n",
    "The algorithm updates positions and velocities in a staggered manner:\n",
    "\n",
    "1. Half-step velocity update (Kick):\n",
    "   start by updating the velocity by half a time step using the current acceleration $a(t)$:\n",
    "   \\begin{align}\n",
    "     v\\left(t+\\frac{1}{2}\\Delta t\\right) = v(t) + \\frac{1}{2}\\Delta t\\, a(t).\n",
    "   \\end{align}\n",
    "\n",
    "2. Full-step position update (Drift):\n",
    "   update the position for a full time step using the half-stepped velocity:\n",
    "   \\begin{align}\n",
    "     x(t+\\Delta t) = x(t) + \\Delta t\\, v\\left(t+\\frac{1}{2}\\Delta t\\right).\n",
    "   \\end{align}\n",
    "\n",
    "3. Half-step velocity update (Kick):\n",
    "   finally, update the velocity by another half time step using the new acceleration $a(t+\\Delta t)$ computed from the updated positions:\n",
    "   \\begin{align}\n",
    "     v(t+\\Delta t) = v\\left(t+\\frac{1}{2}\\Delta t\\right) + \\frac{1}{2}\\Delta t\\, a(t+\\Delta t).\n",
    "   \\end{align}"
   ]
  },
  {
   "cell_type": "code",
   "execution_count": null,
   "id": "14",
   "metadata": {},
   "outputs": [],
   "source": [
    "def leapfrog(m, r0, v0, dt, acc=acc1):\n",
    "\n",
    "    n  = len(m)\n",
    "\n",
    "    # vh = v0 + 0.5 * dt * a0\n",
    "    a0 = acc(m, r0)\n",
    "    vh = []\n",
    "    for i in range(n):\n",
    "        a0xi, a0yi, a0zi = a0[i]\n",
    "        v0xi, v0yi, v0zi = v0[i]\n",
    "        vhxi = v0xi + 0.5 * dt * a0xi\n",
    "        vhyi = v0yi + 0.5 * dt * a0yi\n",
    "        vhzi = v0zi + 0.5 * dt * a0zi\n",
    "        vh.append((vhxi, vhyi, vhzi))\n",
    "\n",
    "    # r1 = r0 + dt * vh\n",
    "    r1 = []\n",
    "    for i in range(n):\n",
    "        vhxi, vhyi, vhzi = vh[i]\n",
    "        x0i,  y0i,  z0i  = r0[i]\n",
    "        x1i = x0i + dt * vhxi\n",
    "        y1i = y0i + dt * vhyi\n",
    "        z1i = z0i + dt * vhzi\n",
    "        r1.append((x1i, y1i, z1i))\n",
    "\n",
    "    # v1 = vh + 0.5 * dt * a1\n",
    "    a1 = acc(m, r1)\n",
    "    v1 = []\n",
    "    for i in range(n):\n",
    "        a1xi, a1yi, a1zi = a1[i]\n",
    "        vhxi, vhyi, vhzi = vh[i]\n",
    "        v1xi = vhxi + 0.5 * dt * a1xi\n",
    "        v1yi = vhyi + 0.5 * dt * a1yi\n",
    "        v1zi = vhzi + 0.5 * dt * a1zi\n",
    "        v1.append((v1xi, v1yi, v1zi))\n",
    "\n",
    "    return r1, v1"
   ]
  }
 ],
 "metadata": {
  "kernelspec": {
   "display_name": "Python 3 (ipykernel)",
   "language": "python",
   "name": "python3"
  },
  "language_info": {
   "codemirror_mode": {
    "name": "ipython",
    "version": 3
   },
   "file_extension": ".py",
   "mimetype": "text/x-python",
   "name": "python",
   "nbconvert_exporter": "python",
   "pygments_lexer": "ipython3",
   "version": "3.13.2"
  }
 },
 "nbformat": 4,
 "nbformat_minor": 5
}
